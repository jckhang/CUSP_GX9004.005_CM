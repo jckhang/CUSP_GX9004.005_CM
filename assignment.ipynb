{
 "cells": [
  {
   "cell_type": "markdown",
   "metadata": {},
   "source": [
    "# Hardware/Sensor Design & Data Collection - Assignment"
   ]
  },
  {
   "cell_type": "markdown",
   "metadata": {},
   "source": [
    "**Due date is 5pm on June 1st**"
   ]
  },
  {
   "cell_type": "markdown",
   "metadata": {},
   "source": [
    "**Each person submits their own code, accompanying audio files and writeup as a Jupyter Notebook**"
   ]
  },
  {
   "cell_type": "markdown",
   "metadata": {},
   "source": [
    "Your task is to create a semi smart acquisition platform for urban sound data. This platform should log to file the time stamped RMS amplitude of its surrounding sound environment continuously at a time resolution of your choosing. It should also collect audio files, but only those with sufficient amplitude above the ambient amplitude. These audio files should be at least 1 second in length.\n",
    "<br><br>\n",
    "You need to capture data over a 12 hour period, ideally from an outdoor environment to increase the variation in captured sound sources. These 12 hours should cover periods of high and low urban actvity, eg. rush hour and very early morning. If this is your only computer, an over night period may be best.\n",
    "<br><br>\n",
    "   * You should explain your system, including all of the possible sources of error and inaccuracies\n",
    "       * Provide images of its location\n",
    "       * Describe the average acoustic conditions around the system\n",
    "   <br><br>\n",
    "   * Plot all RMS amplitude data, (without resorting to plotting the entire dataset) and comment on its temporal evolution as it relates to urban noise\n",
    "       * Y-axis should show RMS with a range of 0.0 to +1.0\n",
    "       * X-axis should be a human-readable time format\n",
    "       * **All** audio events captured (see below) should have their start and end points marked and labelled\n",
    "   <br><br>\n",
    "   * Select a few interesting captured audio recordings and for each:\n",
    "       * Plot its time domain representation and comment on its amplitude evolution\n",
    "       * Plot the Fourier Transform of the entire file using a logarithmic X-axis and comment on it\n",
    "       * Plot its spectrogram with time in seconds on the X-axis and comment on it\n",
    "       * Label all plots using the correct variable and format for each scale, eg. time in seconds, frequency in Hz, etc.\n",
    "       * Any comments made should consider urban noise and why certain sound sources may be perceived as more annoying\n",
    "\n",
    "\n",
    "<br><br>\n",
    "**Notes:**\n",
    "   * Make sure to turn off any active/auto noise cancellation settings on your recording device\n",
    "   * Adjust the microphones input gain so you don't observe a distrorted or too quiet recorded signal\n",
    "   * If possible use an external microphone so that it can more easily pickup external sounds\n",
    "   * Make a number of test recordings of RMS data and audio to ensure the system is functional and collecting usable data before beginning the extended recording period\n",
    "   * Your smart recorder script must run on my Macbook\n",
    "   * All code must be clearly commented \n",
    "<br><br>\n",
    "\n",
    "**I can be contacted at: cmydlarz@nyu.edu**"
   ]
  },
  {
   "cell_type": "code",
   "execution_count": 1,
   "metadata": {
    "collapsed": true
   },
   "outputs": [],
   "source": [
    "%matplotlib inline\n",
    "import numpy as np\n",
    "from scipy.io import wavfile\n",
    "import matplotlib.pyplot as plt\n",
    "import matplotlib.pylab as pylab\n",
    "\n",
    "pylab.rcParams['figure.figsize'] = 16, 8\n",
    "pylab.rcParams['font.size'] = 16"
   ]
  },
  {
   "cell_type": "code",
   "execution_count": 2,
   "metadata": {
    "collapsed": false
   },
   "outputs": [
    {
     "ename": "NameError",
     "evalue": "name 'samples' is not defined",
     "output_type": "error",
     "traceback": [
      "\u001b[0;31m---------------------------------------------------------------------------\u001b[0m",
      "\u001b[0;31mNameError\u001b[0m                                 Traceback (most recent call last)",
      "\u001b[0;32m<ipython-input-2-61a6d5b96a11>\u001b[0m in \u001b[0;36m<module>\u001b[0;34m()\u001b[0m\n\u001b[0;32m----> 1\u001b[0;31m \u001b[0mdur\u001b[0m \u001b[0;34m=\u001b[0m \u001b[0mfloat\u001b[0m\u001b[0;34m(\u001b[0m\u001b[0mlen\u001b[0m\u001b[0;34m(\u001b[0m\u001b[0msamples\u001b[0m\u001b[0;34m)\u001b[0m\u001b[0;34m)\u001b[0m \u001b[0;34m/\u001b[0m \u001b[0mfs\u001b[0m\u001b[0;34m\u001b[0m\u001b[0m\n\u001b[0m\u001b[1;32m      2\u001b[0m \u001b[0msample_len\u001b[0m \u001b[0;34m=\u001b[0m \u001b[0mlen\u001b[0m\u001b[0;34m(\u001b[0m\u001b[0msamples\u001b[0m\u001b[0;34m)\u001b[0m\u001b[0;34m\u001b[0m\u001b[0m\n\u001b[1;32m      3\u001b[0m \u001b[0;34m\u001b[0m\u001b[0m\n\u001b[1;32m      4\u001b[0m \u001b[0;32mprint\u001b[0m \u001b[0;34m'Sample rate: '\u001b[0m\u001b[0;34m,\u001b[0m \u001b[0mfs\u001b[0m\u001b[0;34m,\u001b[0m \u001b[0;34m'Hz'\u001b[0m\u001b[0;34m\u001b[0m\u001b[0m\n\u001b[1;32m      5\u001b[0m \u001b[0;32mprint\u001b[0m \u001b[0;34m'Length in samples: '\u001b[0m\u001b[0;34m,\u001b[0m \u001b[0msample_len\u001b[0m\u001b[0;34m\u001b[0m\u001b[0m\n",
      "\u001b[0;31mNameError\u001b[0m: name 'samples' is not defined"
     ]
    }
   ],
   "source": [
    "dur = float(len(samples)) / fs\n",
    "sample_len = len(samples)\n",
    "\n",
    "print 'Sample rate: ', fs, 'Hz'\n",
    "print 'Length in samples: ', sample_len\n",
    "print 'Length in seconds: ', '%.3f' % dur\n",
    "print 'Sample data type: ', samples.dtype"
   ]
  },
  {
   "cell_type": "code",
   "execution_count": null,
   "metadata": {
    "collapsed": true
   },
   "outputs": [],
   "source": []
  }
 ],
 "metadata": {
  "kernelspec": {
   "display_name": "Python 2",
   "language": "python",
   "name": "python2"
  },
  "language_info": {
   "codemirror_mode": {
    "name": "ipython",
    "version": 2
   },
   "file_extension": ".py",
   "mimetype": "text/x-python",
   "name": "python",
   "nbconvert_exporter": "python",
   "pygments_lexer": "ipython2",
   "version": "2.7.10"
  },
  "toc": {
   "toc_cell": true,
   "toc_number_sections": true,
   "toc_threshold": 6,
   "toc_window_display": false
  }
 },
 "nbformat": 4,
 "nbformat_minor": 0
}
